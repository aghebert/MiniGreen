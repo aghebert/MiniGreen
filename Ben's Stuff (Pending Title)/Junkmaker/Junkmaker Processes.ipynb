{
 "cells": [
  {
   "cell_type": "code",
   "execution_count": 1,
   "metadata": {},
   "outputs": [],
   "source": [
    "#test run\n",
    "import csv\n",
    "\n",
    "with open('createdFile.csv', mode = 'w') as createdFile:\n",
    "    createdWriter = csv.writer(createdFile, delimiter = ',', quotechar = '|', quoting=csv.QUOTE_MINIMAL)\n",
    "    createdWriter.writerow(['Test', 'Me'])"
   ]
  },
  {
   "cell_type": "code",
   "execution_count": 2,
   "metadata": {},
   "outputs": [
    {
     "name": "stdout",
     "output_type": "stream",
     "text": [
      "[0, 1, 2, 3, 4, 5, 6, 7, 8, 9, 10, 11, 12, 13, 14, 15, 16, 17, 18, 19]\n"
     ]
    }
   ],
   "source": [
    "#First run Getting an array populated\n",
    "placeHolder = 0\n",
    "myArray = []\n",
    "for i in range(0, 20):\n",
    "    myArray.append(placeHolder)\n",
    "    placeHolder += 1\n",
    "\n",
    "print(myArray)"
   ]
  },
  {
   "cell_type": "code",
   "execution_count": 3,
   "metadata": {},
   "outputs": [
    {
     "name": "stdout",
     "output_type": "stream",
     "text": [
      "[2.0, 4.9, 5.9, 3.2, 7.300000000000001, 5.5, 6.0, 11.5, 8.5, 10.1, 13.1, 13.0, 14.9, 13.3, 14.4, 15.3, 19.6, 17.5, 21.0, 23.3]\n"
     ]
    }
   ],
   "source": [
    "#A simple pseudo-random shakeup of an array's values\n",
    "#It's a linear growth\n",
    "import random\n",
    "\n",
    "linearArray = []\n",
    "for i in myArray:\n",
    "    linearArray.append(myArray[i] + 0.1 * random.randint(0,50))\n",
    "    \n",
    "print(linearArray)"
   ]
  },
  {
   "cell_type": "code",
   "execution_count": 4,
   "metadata": {},
   "outputs": [
    {
     "name": "stdout",
     "output_type": "stream",
     "text": [
      "['Item 1', 'Item 2', 'Item 3', 'Item 4', 'Item 5', 'Item 6', 'Item 7', 'Item 8', 'Item 9', 'Item 10', 'Item 11', 'Item 12', 'Item 13', 'Item 14', 'Item 15', 'Item 16', 'Item 17', 'Item 18', 'Item 19', 'Item 20']\n"
     ]
    }
   ],
   "source": [
    "#A string's iterations\n",
    "myString = \"Item \"\n",
    "placeHolder = 1;\n",
    "\n",
    "itemArray = []\n",
    "\n",
    "for i in range(0,20):\n",
    "    itemArray.append(myString + str(placeHolder))\n",
    "    placeHolder += 1\n",
    "    \n",
    "print(itemArray)"
   ]
  },
  {
   "cell_type": "code",
   "execution_count": 5,
   "metadata": {},
   "outputs": [],
   "source": [
    "#Creates a string and a number to associate with that string\n",
    "with open('test2.csv', mode = 'w') as test2File:\n",
    "    createdWriter = csv.writer(test2File, delimiter = ',', quotechar = '|', quoting=csv.QUOTE_MINIMAL)\n",
    "    for i in range(0,20):\n",
    "        createdWriter.writerow([itemArray[i], linearArray[i]])"
   ]
  },
  {
   "cell_type": "code",
   "execution_count": 6,
   "metadata": {},
   "outputs": [
    {
     "name": "stdout",
     "output_type": "stream",
     "text": [
      "[   0.     84.15   90.93   14.11  -75.68  -95.89  -27.94   65.7    98.94\n",
      "   41.21  -54.4  -100.    -53.66   42.02   99.06   65.03  -28.79  -96.14\n",
      "  -75.1    14.99]\n"
     ]
    }
   ],
   "source": [
    "#Making a non-linear sorting of random numbers, to 2 decimal places\n",
    "#Specifically, a sine function\n",
    "import math\n",
    "import numpy as np\n",
    "\n",
    "sinArray = []\n",
    "for i in myArray:\n",
    "    #this is to get a number to 2 places. Probably a better way exists\n",
    "    sinArray.append(\"{0:.2f}\".format(math.sin(myArray[i]) * 100))\n",
    "\n",
    "    \n",
    "    #This changes the array of string to array of float\n",
    "sinArray = np.asarray(sinArray)\n",
    "sinArray = sinArray.astype(np.float)\n",
    "print(sinArray)"
   ]
  },
  {
   "cell_type": "code",
   "execution_count": null,
   "metadata": {},
   "outputs": [],
   "source": []
  },
  {
   "cell_type": "code",
   "execution_count": 7,
   "metadata": {},
   "outputs": [
    {
     "name": "stdout",
     "output_type": "stream",
     "text": [
      "2019-04-27\n"
     ]
    }
   ],
   "source": [
    "#Possibly useful later\n",
    "from datetime import date\n",
    "import random\n",
    "\n",
    "start_dt = date.today().replace(day=1, month=1).toordinal()\n",
    "end_dt = date.today().toordinal()\n",
    "random_day = date.fromordinal(random.randint(start_dt, end_dt))\n",
    "print(random_day)\n"
   ]
  },
  {
   "cell_type": "code",
   "execution_count": 8,
   "metadata": {},
   "outputs": [
    {
     "data": {
      "text/plain": [
       "[<matplotlib.lines.Line2D at 0x20998c9f518>]"
      ]
     },
     "execution_count": 8,
     "metadata": {},
     "output_type": "execute_result"
    }
   ],
   "source": [
    "import matplotlib.pyplot as plt\n",
    "\n",
    "#graph of a linear correlation\n",
    "plt.xlabel('Time')\n",
    "plt.ylabel('Value')\n",
    "plt.plot(myArray, linearArray, color='red')"
   ]
  },
  {
   "cell_type": "code",
   "execution_count": 9,
   "metadata": {},
   "outputs": [
    {
     "data": {
      "text/plain": [
       "<matplotlib.collections.PathCollection at 0x2099afe4e48>"
      ]
     },
     "execution_count": 9,
     "metadata": {},
     "output_type": "execute_result"
    },
    {
     "data": {
      "image/png": "[encoded data removed]",
      "text/plain": [
       "<Figure size 432x288 with 1 Axes>"
      ]
     },
     "metadata": {
      "needs_background": "light"
     },
     "output_type": "display_data"
    }
   ],
   "source": [
    "#Scatter plot of a linear correlation\n",
    "plt.xlabel('Time')\n",
    "plt.ylabel('Value')\n",
    "plt.scatter(myArray, linearArray, color='red')"
   ]
  },
  {
   "cell_type": "code",
   "execution_count": 10,
   "metadata": {},
   "outputs": [
    {
     "name": "stdout",
     "output_type": "stream",
     "text": [
      "[0, 1, 2, 3, 4, 5, 6, 7, 8, 9, 10, 11, 12, 13, 14, 15, 16, 17, 18, 19]\n",
      "[   0.     84.15   90.93   14.11  -75.68  -95.89  -27.94   65.7    98.94\n",
      "   41.21  -54.4  -100.    -53.66   42.02   99.06   65.03  -28.79  -96.14\n",
      "  -75.1    14.99]\n"
     ]
    },
    {
     "data": {
      "text/plain": [
       "numpy.ndarray"
      ]
     },
     "execution_count": 10,
     "metadata": {},
     "output_type": "execute_result"
    },
    {
     "data": {
      "image/png": "[encoded data removed]",
      "text/plain": [
       "<Figure size 432x288 with 1 Axes>"
      ]
     },
     "metadata": {
      "needs_background": "light"
     },
     "output_type": "display_data"
    }
   ],
   "source": [
    "#plotting a sine-like bit of data\n",
    "\n",
    "plt.xlabel('Time')\n",
    "plt.ylabel('Value')\n",
    "plt.ylim(min(sinArray), max(sinArray))\n",
    "plt.plot(myArray, sinArray)\n",
    "print(myArray)\n",
    "print(sinArray)\n",
    "type(sinArray)"
   ]
  },
  {
   "cell_type": "code",
   "execution_count": 11,
   "metadata": {},
   "outputs": [
    {
     "name": "stdout",
     "output_type": "stream",
     "text": [
      "[0, 1, 2, 3, 4, 5, 6, 7, 8, 9, 10, 11, 12, 13, 14, 15, 16, 17, 18, 19]\n",
      "[27, 8, 11, 12, 49, 9, 6, 36, 53, 50, 59, 35, 16, 33, 37, 56, 17, 29, 33, 68]\n"
     ]
    },
    {
     "data": {
      "image/png": "[encoded data removed]",
      "text/plain": [
       "<Figure size 432x288 with 1 Axes>"
      ]
     },
     "metadata": {
      "needs_background": "light"
     },
     "output_type": "display_data"
    }
   ],
   "source": [
    "#A truly random Array of values\n",
    "\n",
    "randomArray = []\n",
    "\n",
    "for i in myArray:\n",
    "    randomArray.append(myArray[i] + random.randint(0,50))\n",
    "    \n",
    "plt.xlabel('Time')\n",
    "plt.ylabel('Value')\n",
    "plt.ylim(min(randomArray), max(randomArray))\n",
    "plt.plot(myArray, randomArray)\n",
    "print(myArray)\n",
    "print(randomArray)"
   ]
  },
  {
   "cell_type": "code",
   "execution_count": 12,
   "metadata": {},
   "outputs": [
    {
     "name": "stdout",
     "output_type": "stream",
     "text": [
      "Starting number in stock is 100\n",
      "Number removed is: 17 number in stock is now 83\n",
      "Number removed is: 8 number in stock is now 75\n",
      "Number removed is: 3 number in stock is now 72\n",
      "Number removed is: 18 number in stock is now 54\n",
      "Number removed is: 4 number in stock is now 50\n",
      "Number removed is: 4 number in stock is now 46\n",
      "Number removed is: 11 number in stock is now 35\n",
      "Restock! Added 100\n",
      "Number removed is: 7 number in stock is now 128\n",
      "Number removed is: 10 number in stock is now 118\n",
      "Number removed is: 13 number in stock is now 105\n",
      "Number removed is: 19 number in stock is now 86\n",
      "Number removed is: 20 number in stock is now 66\n",
      "Number removed is: 16 number in stock is now 50\n",
      "Number removed is: 19 number in stock is now 31\n",
      "Number removed is: 12 number in stock is now 19\n",
      "Restock! Added 100\n",
      "Number removed is: 0 number in stock is now 119\n",
      "Number removed is: 13 number in stock is now 106\n",
      "Number removed is: 4 number in stock is now 102\n",
      "Number removed is: 1 number in stock is now 101\n",
      "Number removed is: 19 number in stock is now 82\n",
      "Number removed is: 11 number in stock is now 71\n",
      "Number removed is: 14 number in stock is now 57\n",
      "Number removed is: 3 number in stock is now 54\n",
      "Restock! Added 100\n",
      "Number removed is: 6 number in stock is now 148\n",
      "Number removed is: 8 number in stock is now 140\n",
      "Number removed is: 2 number in stock is now 138\n",
      "Number removed is: 4 number in stock is now 134\n",
      "Number removed is: 15 number in stock is now 119\n",
      "Number removed is: 11 number in stock is now 108\n",
      "Number removed is: 6 number in stock is now 102\n",
      "Number removed is: 15 number in stock is now 87\n",
      "Restock! Added 100\n",
      "Number removed is: 0 number in stock is now 187\n",
      "Number removed is: 16 number in stock is now 171\n",
      "Number removed is: 0 number in stock is now 171\n",
      "Number removed is: 16 number in stock is now 155\n",
      "Number removed is: 17 number in stock is now 138\n",
      "Number removed is: 0 number in stock is now 138\n",
      "Number removed is: 3 number in stock is now 135\n",
      "Number removed is: 18 number in stock is now 117\n",
      "Restock! Added 100\n",
      "Number removed is: 10 number in stock is now 207\n",
      "Number removed is: 9 number in stock is now 198\n",
      "Number removed is: 19 number in stock is now 179\n",
      "Number removed is: 12 number in stock is now 167\n",
      "Number removed is: 17 number in stock is now 150\n",
      "Number removed is: 8 number in stock is now 142\n",
      "Number removed is: 1 number in stock is now 141\n",
      "Number removed is: 11 number in stock is now 130\n",
      "Restock! Added 100\n",
      "Number removed is: 8 number in stock is now 222\n",
      "Number removed is: 0 number in stock is now 222\n",
      "Number removed is: 18 number in stock is now 204\n",
      "Number removed is: 0 number in stock is now 204\n",
      "Number removed is: 10 number in stock is now 194\n",
      "Number removed is: 16 number in stock is now 178\n",
      "Number removed is: 5 number in stock is now 173\n",
      "Number removed is: 0 number in stock is now 173\n",
      "Restock! Added 100\n",
      "Number removed is: 4 number in stock is now 269\n",
      "Number removed is: 15 number in stock is now 254\n",
      "Number removed is: 6 number in stock is now 248\n",
      "Number removed is: 7 number in stock is now 241\n",
      "Number removed is: 9 number in stock is now 232\n",
      "Stock over the 60 days: [100, 83, 75, 72, 54, 50, 46, 35, 128, 118, 105, 86, 66, 50, 31, 19, 119, 106, 102, 101, 82, 71, 57, 54, 148, 140, 138, 134, 119, 108, 102, 87, 187, 171, 171, 155, 138, 138, 135, 117, 207, 198, 179, 167, 150, 142, 141, 130, 222, 222, 204, 204, 194, 178, 173, 173, 269, 254, 248, 241, 232]\n"
     ]
    },
    {
     "data": {
      "text/plain": [
       "[<matplotlib.lines.Line2D at 0x2099b122c50>]"
      ]
     },
     "execution_count": 12,
     "metadata": {},
     "output_type": "execute_result"
    },
    {
     "data": {
      "image/png": "[encoded data removed]",
      "text/plain": [
       "<Figure size 432x288 with 1 Axes>"
      ]
     },
     "metadata": {
      "needs_background": "light"
     },
     "output_type": "display_data"
    }
   ],
   "source": [
    "#This is a little more defined. I'll be making a function here, eventually. Or based on this.\n",
    "#It makes a simple, sample history of inventory. I can add fields, like names and such, easily when needed.\n",
    "\n",
    "minItemsSoldPerDay = 0\n",
    "maxItemsSoldPerDay = 20\n",
    "\n",
    "numberOfDays = 60\n",
    "numberInStock = 100\n",
    "\n",
    "restockTime = 7\n",
    "restockAmount = 100;\n",
    "\n",
    "dayArray = []\n",
    "randomArray = []\n",
    "for i in range (0, numberOfDays + 1):\n",
    "    dayArray.append(i)\n",
    "\n",
    "#Intial Value\n",
    "randomArray.append(numberInStock)\n",
    "print(\"Starting number in stock is\", numberInStock)\n",
    "\n",
    "placeholder = 0;\n",
    "\n",
    "#You have a # of items in stock. (user defined)\n",
    "#This takes away a certain number per day (user defined)\n",
    "#Then it adds the restock amount every x days (user defined) \n",
    "for i in range(0, numberOfDays):\n",
    "    if placeholder == restockTime:\n",
    "        numberInStock += restockAmount\n",
    "        placeholder = 0\n",
    "        print(\"Restock! Added\", restockAmount)\n",
    "        x = random.randint(0, maxItemsSoldPerDay)\n",
    "        numberInStock -= x\n",
    "        if numberInStock < 0:\n",
    "            numberInStock = 0\n",
    "        print(\"Number removed is:\", x, \"number in stock is now\", numberInStock)\n",
    "        randomArray.append(numberInStock)\n",
    "    else:\n",
    "        x = random.randint(0, maxItemsSoldPerDay)\n",
    "        numberInStock -= x\n",
    "        if numberInStock < 0:\n",
    "            numberInStock = 0\n",
    "        print(\"Number removed is:\", x, \"number in stock is now\", numberInStock)\n",
    "        randomArray.append(numberInStock)\n",
    "        placeholder += 1\n",
    "\n",
    "\n",
    "print(\"Stock over the\", numberOfDays, \"days:\", randomArray)\n",
    "\n",
    "plt.xlabel('Time')\n",
    "plt.ylabel('Value')\n",
    "plt.ylim(min(randomArray), max(randomArray))\n",
    "plt.plot(dayArray, randomArray)"
   ]
  },
  {
   "cell_type": "code",
   "execution_count": null,
   "metadata": {},
   "outputs": [],
   "source": [
    "print(randomArray)"
   ]
  },
  {
   "cell_type": "code",
   "execution_count": null,
   "metadata": {
    "scrolled": true
   },
   "outputs": [],
   "source": [
    "#Saving the previous thing to a csv\n",
    "\n",
    "dayArray = []\n",
    "placeHolder = 0;\n",
    "myString = \"Day number \"\n",
    "\n",
    "for i in range(0,numberOfDays+ 1):\n",
    "    dayArray.append(myString + str(placeHolder))\n",
    "    placeHolder += 1\n",
    "    \n",
    "with open('sample.csv', mode = 'w') as sampleFile:\n",
    "    myWriter = csv.writer(sampleFile, delimiter = ',', quotechar = '|', quoting=csv.QUOTE_MINIMAL)\n",
    "    for i in range(0,numberOfDays+ 1):\n",
    "        #myWriter.writerow(['Test', 'Me'])\n",
    "        myWriter.writerow([dayArray[i], randomArray[i]])"
   ]
  },
  {
   "cell_type": "code",
   "execution_count": null,
   "metadata": {},
   "outputs": [],
   "source": []
  }
 ],
 "metadata": {
  "kernelspec": {
   "display_name": "Python 3",
   "language": "python",
   "name": "python3"
  },
  "language_info": {
   "codemirror_mode": {
    "name": "ipython",
    "version": 3
   },
   "file_extension": ".py",
   "mimetype": "text/x-python",
   "name": "python",
   "nbconvert_exporter": "python",
   "pygments_lexer": "ipython3",
   "version": "3.7.1"
  }
 },
 "nbformat": 4,
 "nbformat_minor": 2
}
